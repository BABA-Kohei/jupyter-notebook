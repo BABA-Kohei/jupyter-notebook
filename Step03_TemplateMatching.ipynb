{
 "cells": [
  {
   "cell_type": "markdown",
   "metadata": {},
   "source": [
    "## Step03_TemplateMatching\n",
    "\n",
    "テストサンプルを１枚ずつ読み出してマッチングする\n",
    "混同行列と各クラスの認識率を表示する"
   ]
  },
  {
   "cell_type": "code",
   "execution_count": 1,
   "metadata": {},
   "outputs": [],
   "source": [
    "from skimage import io\n",
    "import numpy as np"
   ]
  },
  {
   "cell_type": "code",
   "execution_count": 2,
   "metadata": {},
   "outputs": [],
   "source": [
    "TrainingSampleNum = 2000 # 学習サンプル総数\n",
    "TestSampleNum = 10000 # テストサンプル総数\n",
    "ClassNum = 10 # クラス数（今回は10）\n",
    "ImageSize = 28 # 画像サイズ（今回は縦横ともに28）\n",
    "TrainingDataFile = '/home/share/students/Wataru_Ohyama/Images/TrainingSamples/{0:1d}-{1:04d}.png'\n",
    "TestDataFile = '/home/share/students/Wataru_Ohyama/Images/TestSamples/{0:1d}-{1:04d}.png'\n",
    "OutFile = './Images/OutSamples/save_{0:1d}-{1:04d}.png'"
   ]
  },
  {
   "cell_type": "code",
   "execution_count": 3,
   "metadata": {},
   "outputs": [],
   "source": [
    "# LoadTemplates\n",
    "def LoadTemplates () :\n",
    "    labels = np.zeros( TrainingSampleNum, dtype=np.uint8 )\n",
    "    templates = np.zeros( (TrainingSampleNum,ImageSize,ImageSize), dtype=np.uint8 )\n",
    "\n",
    "    i = 0\n",
    "    for label in range (0, ClassNum):\n",
    "        for sample in range (0, TrainingSampleNum // ClassNum ):\n",
    "            filename = TrainingDataFile.format(label,sample)\n",
    "            templates[i,:,:] = io.imread(filename)\n",
    "            labels[i]=label\n",
    "            i += 1\n",
    "\n",
    "    return templates, labels"
   ]
  },
  {
   "cell_type": "code",
   "execution_count": 4,
   "metadata": {},
   "outputs": [],
   "source": [
    "# CalcDistance\n",
    "# 今回は L1 距離を算出\n",
    "def CalcDistance ( target, template ):\n",
    "    buf = np.fabs( target - template )    \n",
    "    return np.sum(buf)"
   ]
  },
  {
   "cell_type": "code",
   "execution_count": 5,
   "metadata": {},
   "outputs": [],
   "source": [
    "# ReturnMatchLabel\n",
    "def ReturnMatchLabel ( target, templates, labels ):\n",
    "    min_dis = CalcDistance ( target, templates[0,:,:] )\n",
    "    match_label = labels[0]\n",
    "    for i in range (0, TrainingSampleNum ):\n",
    "        \n",
    "        dis = CalcDistance ( target, templates[i,:,:] )\n",
    "        if min_dis > dis :\n",
    "            min_dis = dis\n",
    "            match_label = labels[i]\n",
    "            \n",
    "    return match_label"
   ]
  },
  {
   "cell_type": "code",
   "execution_count": 6,
   "metadata": {},
   "outputs": [],
   "source": [
    "# TemplateMatching \n",
    "def TemplateMatching ( templates, labels ):\n",
    "\n",
    "    results = np.zeros ( (ClassNum, ClassNum) )\n",
    "    each_class_num = TestSampleNum // ClassNum\n",
    "    \n",
    "    for label in range (0, ClassNum):\n",
    "        for sample in range (0, each_class_num ):\n",
    "            filename = TestDataFile.format(label,sample)\n",
    "            t_img = io.imread ( filename )\n",
    "            match_label = ReturnMatchLabel ( t_img, templates, labels )\n",
    "            results [label, match_label] += 1\n",
    "        print ( \"{0:1d}: {1:.4f}\".format(label, results[label,label]/each_class_num))\n",
    "\n",
    "    print(\"= Confusion matrix ===========\")\n",
    "    for t_label in range (0,ClassNum):\n",
    "\n",
    "        for m_label in range (0,ClassNum):\n",
    "            print (\"{:04g}, \".format(results[t_label,m_label]), end=\"\")\n",
    "        print(\"\")\n",
    "\n",
    "    print(\"= Total Recognition accuracy ===========\")\n",
    "    total_correct_num = 0\n",
    "    for t_label in range (0,ClassNum):\n",
    "        total_correct_num += results[t_label,t_label]\n",
    "    print (\"TOTAL: {}\".format(total_correct_num / TestSampleNum))\n"
   ]
  },
  {
   "cell_type": "code",
   "execution_count": 7,
   "metadata": {},
   "outputs": [
    {
     "name": "stdout",
     "output_type": "stream",
     "text": [
      "0: 0.8430\n",
      "1: 0.9920\n",
      "2: 0.5940\n",
      "3: 0.5770\n",
      "4: 0.5470\n",
      "5: 0.4190\n",
      "6: 0.7540\n",
      "7: 0.7160\n",
      "8: 0.4560\n",
      "9: 0.6590\n",
      "= Confusion matrix ===========\n",
      "0843, 0030, 0005, 0003, 0000, 0014, 0078, 0002, 0020, 0005, \n",
      "0001, 0992, 0001, 0004, 0000, 0000, 0002, 0000, 0000, 0000, \n",
      "0098, 0147, 0594, 0037, 0009, 0001, 0033, 0020, 0055, 0006, \n",
      "0021, 0173, 0019, 0577, 0005, 0039, 0036, 0016, 0076, 0038, \n",
      "0094, 0128, 0002, 0001, 0547, 0001, 0057, 0022, 0019, 0129, \n",
      "0062, 0173, 0005, 0066, 0013, 0419, 0134, 0002, 0073, 0053, \n",
      "0102, 0116, 0009, 0000, 0002, 0010, 0754, 0001, 0004, 0002, \n",
      "0037, 0109, 0006, 0011, 0014, 0000, 0001, 0716, 0000, 0106, \n",
      "0020, 0271, 0028, 0040, 0008, 0052, 0079, 0013, 0456, 0033, \n",
      "0032, 0102, 0002, 0009, 0095, 0004, 0006, 0077, 0014, 0659, \n",
      "= Total Recognition accuracy ===========\n",
      "TOTAL: 0.6557\n"
     ]
    }
   ],
   "source": [
    "# main ルーチン\n",
    "\n",
    "templates, labels = LoadTemplates ()\n",
    "TemplateMatching ( templates, labels )\n"
   ]
  }
 ],
 "metadata": {
  "kernelspec": {
   "display_name": "Python 3",
   "language": "python",
   "name": "python3"
  },
  "language_info": {
   "codemirror_mode": {
    "name": "ipython",
    "version": 3
   },
   "file_extension": ".py",
   "mimetype": "text/x-python",
   "name": "python",
   "nbconvert_exporter": "python",
   "pygments_lexer": "ipython3",
   "version": "3.6.4"
  }
 },
 "nbformat": 4,
 "nbformat_minor": 2
}
